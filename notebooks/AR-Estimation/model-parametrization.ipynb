{
 "cells": [
  {
   "cell_type": "code",
   "execution_count": 1,
   "id": "f56dc1db-5176-46d5-8712-7c798c4f83eb",
   "metadata": {},
   "outputs": [],
   "source": [
    "import sys\n",
    "import numpy as np\n",
    "from statsmodels.tsa.stattools import coint, adfuller\n",
    "from scipy.stats import boxcox\n",
    "\n",
    "# Define the path to the parent directory of data_analysis\n",
    "parent_dir = '/Users/nielsvanwinden/Projects/Projects/Inholland/Scenario_Generator/src'\n",
    "\n",
    "# Add the parent directory to sys.path\n",
    "sys.path.append(parent_dir)\n",
    "\n",
    "from data_analysis import *\n",
    "from model import *"
   ]
  },
  {
   "cell_type": "code",
   "execution_count": 2,
   "id": "b76a2ae2-97da-474c-83a1-1f6b68a7364a",
   "metadata": {},
   "outputs": [
    {
     "name": "stdout",
     "output_type": "stream",
     "text": [
      "Data loaded successfully from /Users/nielsvanwinden/Projects/Projects/Inholland/Scenario_Generator/data/dataset.csv.\n"
     ]
    }
   ],
   "source": [
    "df = load_macro_economic_data(\"/Users/nielsvanwinden/Projects/Projects/Inholland/Scenario_Generator/data/dataset.csv\")"
   ]
  },
  {
   "cell_type": "code",
   "execution_count": 3,
   "id": "0c03c0aa-5dc2-4054-a5b0-8c81988fbc17",
   "metadata": {},
   "outputs": [],
   "source": [
    "# Drop 'pit_index'\n",
    "df = df.drop(columns=['pit_index'])\n",
    "\n",
    "# Convert 'pit_date' to datetime\n",
    "df['pit_date'] = pd.to_datetime(df['pit_date'], format='%Y-%m-%d')\n",
    "\n",
    "# Convert 'macro_code' to string\n",
    "df['macro_code'] = df['macro_code'].astype(str)\n",
    "\n",
    "# Convert 'pit_value' to string\n",
    "df['pit_value'] = df['pit_value'].astype(float)\n",
    "\n",
    "# Convert 'time_series_value' to string\n",
    "df['time_series_value'] = df['time_series_value'].astype(float)"
   ]
  },
  {
   "cell_type": "markdown",
   "id": "bdb59d92-a534-4878-bbd1-c5de80187430",
   "metadata": {},
   "source": [
    "# Unemployment"
   ]
  },
  {
   "cell_type": "markdown",
   "id": "00e042e0-20cb-4a2c-b29d-e02c778276e6",
   "metadata": {},
   "source": [
    "## Fit ARIMA"
   ]
  }
 ],
 "metadata": {
  "kernelspec": {
   "display_name": "Python (venv)",
   "language": "python",
   "name": "venv"
  },
  "language_info": {
   "codemirror_mode": {
    "name": "ipython",
    "version": 3
   },
   "file_extension": ".py",
   "mimetype": "text/x-python",
   "name": "python",
   "nbconvert_exporter": "python",
   "pygments_lexer": "ipython3",
   "version": "3.11.4"
  }
 },
 "nbformat": 4,
 "nbformat_minor": 5
}
