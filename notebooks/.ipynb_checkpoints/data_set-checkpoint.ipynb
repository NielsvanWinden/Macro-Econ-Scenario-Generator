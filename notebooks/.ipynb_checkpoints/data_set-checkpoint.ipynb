{
 "cells": [
  {
   "cell_type": "code",
   "execution_count": 68,
   "id": "91989d9c-adc8-4afb-87a4-e3f14be3a1c8",
   "metadata": {},
   "outputs": [],
   "source": [
    "import sys\n",
    "import os\n",
    "\n",
    "# Define the path to the parent directory of data_analysis\n",
    "parent_dir = '/Users/nielsvanwinden/Projects/Projects/Inholland/Scenario_Generator/src'\n",
    "\n",
    "# Add the parent directory to sys.path\n",
    "sys.path.append(parent_dir)\n",
    "\n",
    "# Now you can import the data_analysis module\n",
    "from data_analysis import *"
   ]
  },
  {
   "cell_type": "code",
   "execution_count": 69,
   "id": "bfe86acd-c895-4d01-b254-e481178a2ca0",
   "metadata": {},
   "outputs": [
    {
     "name": "stdout",
     "output_type": "stream",
     "text": [
      "Data loaded successfully from /Users/nielsvanwinden/Projects/Projects/Inholland/Scenario_Generator/data/macro_economic.csv.\n",
      "Data loaded successfully from /Users/nielsvanwinden/Projects/Projects/Inholland/Scenario_Generator/data/interpol_unemp.csv.\n",
      "macro_code            object\n",
      "pit_date      datetime64[ns]\n",
      "pit_index              int64\n",
      "pit_value            float64\n",
      "dtype: object\n",
      "\n",
      "macro_code            object\n",
      "pit_date      datetime64[ns]\n",
      "pit_index              Int64\n",
      "pit_value            float64\n",
      "year                 float64\n",
      "dtype: object\n",
      "\n"
     ]
    },
    {
     "name": "stderr",
     "output_type": "stream",
     "text": [
      "/var/folders/1c/ll9yvjw10cv9fk9j11c6h_4r0000gn/T/ipykernel_10371/1416136128.py:10: SettingWithCopyWarning: \n",
      "A value is trying to be set on a copy of a slice from a DataFrame.\n",
      "Try using .loc[row_indexer,col_indexer] = value instead\n",
      "\n",
      "See the caveats in the documentation: https://pandas.pydata.org/pandas-docs/stable/user_guide/indexing.html#returning-a-view-versus-a-copy\n",
      "  filtered_df['pit_date'] = pd.to_datetime(filtered_df['pit_date'], format='%Y-%m-%d')\n"
     ]
    }
   ],
   "source": [
    "df = load_macro_economic_data(\"/Users/nielsvanwinden/Projects/Projects/Inholland/Scenario_Generator/data/macro_economic.csv\")\n",
    "\n",
    "filtered_df = df[df[\"macro_code\"] != \"unemployment_rate\"]\n",
    "\n",
    "unemployment_df = load_macro_economic_data(\"/Users/nielsvanwinden/Projects/Projects/Inholland/Scenario_Generator/data/interpol_unemp.csv\")\n",
    "\n",
    "df[df[\"macro_code\"] == \"gdp_growth\"]\n",
    "\n",
    "# Convert 'pit_date' to datetime\n",
    "filtered_df['pit_date'] = pd.to_datetime(filtered_df['pit_date'], format='%Y-%m-%d')\n",
    "unemployment_df['pit_date'] = pd.to_datetime(unemployment_df['pit_date'], format='%Y-%m-%d')\n",
    "\n",
    "# Convert 'pit_value' to int\n",
    "unemployment_df['pit_index'] = pd.to_numeric(unemployment_df['pit_index'], errors='coerce').astype('Int64')\n",
    "\n",
    "print(f'{filtered_df.dtypes}\\n')\n",
    "\n",
    "print(f'{unemployment_df.dtypes}\\n')"
   ]
  },
  {
   "cell_type": "code",
   "execution_count": 70,
   "id": "f1bdcb61-8d4b-476a-b30f-92bdfb24feb9",
   "metadata": {},
   "outputs": [
    {
     "name": "stderr",
     "output_type": "stream",
     "text": [
      "/var/folders/1c/ll9yvjw10cv9fk9j11c6h_4r0000gn/T/ipykernel_10371/4090098021.py:2: SettingWithCopyWarning: \n",
      "A value is trying to be set on a copy of a slice from a DataFrame.\n",
      "Try using .loc[row_indexer,col_indexer] = value instead\n",
      "\n",
      "See the caveats in the documentation: https://pandas.pydata.org/pandas-docs/stable/user_guide/indexing.html#returning-a-view-versus-a-copy\n",
      "  filtered_df['year'] = filtered_df['pit_date'].dt.year\n"
     ]
    }
   ],
   "source": [
    "\n",
    "# Add year column\n",
    "filtered_df['year'] = filtered_df['pit_date'].dt.year"
   ]
  },
  {
   "cell_type": "code",
   "execution_count": 73,
   "id": "31d5dad1-bad3-4806-8a22-e65a226c8a96",
   "metadata": {},
   "outputs": [
    {
     "name": "stdout",
     "output_type": "stream",
     "text": [
      "macro_code    111\n",
      "pit_date      111\n",
      "pit_index     111\n",
      "pit_value     111\n",
      "year          111\n",
      "dtype: int64\n",
      "macro_code    108\n",
      "pit_date      108\n",
      "pit_index       0\n",
      "pit_value     108\n",
      "year          108\n",
      "dtype: int64\n",
      "macro_code    111\n",
      "pit_date      111\n",
      "pit_index     111\n",
      "pit_value     111\n",
      "year          111\n",
      "dtype: int64\n"
     ]
    }
   ],
   "source": [
    "interpolated_df = pd.concat([filtered_df, unemployment_df], ignore_index=True)\n",
    "\n",
    "interpolated_df = interpolated_df[interpolated_df['pit_date'].dt.year >= 1996]\n",
    "\n",
    "interpolated_df = interpolated_df[interpolated_df[\"macro_code\"] != \"inflation\"]\n",
    "\n",
    "print(interpolated_df[interpolated_df[\"macro_code\"] == \"hpi\"].count())\n",
    "print(interpolated_df[interpolated_df[\"macro_code\"] == \"unemployment_rate\"].count())\n",
    "print(interpolated_df[interpolated_df[\"macro_code\"] == \"gdp_growth\"].count())"
   ]
  },
  {
   "cell_type": "code",
   "execution_count": 72,
   "id": "d8963ed8-0a5d-45cf-b3b2-7777164ae06b",
   "metadata": {},
   "outputs": [],
   "source": [
    "# Save quarterly_df to CSV\n",
    "interpolated_df.to_csv('/Users/nielsvanwinden/Projects/Projects/Inholland/Scenario_Generator/data/dataset.csv', index=False, sep=';')"
   ]
  },
  {
   "cell_type": "code",
   "execution_count": null,
   "id": "63c84930-cb49-4139-bdfc-f5a5e400ccee",
   "metadata": {},
   "outputs": [],
   "source": []
  },
  {
   "cell_type": "code",
   "execution_count": null,
   "id": "91164fdb-c33d-4e88-b18f-b3efbb9bfbce",
   "metadata": {},
   "outputs": [],
   "source": []
  }
 ],
 "metadata": {
  "kernelspec": {
   "display_name": "Python (venv)",
   "language": "python",
   "name": "venv"
  },
  "language_info": {
   "codemirror_mode": {
    "name": "ipython",
    "version": 3
   },
   "file_extension": ".py",
   "mimetype": "text/x-python",
   "name": "python",
   "nbconvert_exporter": "python",
   "pygments_lexer": "ipython3",
   "version": "3.11.4"
  }
 },
 "nbformat": 4,
 "nbformat_minor": 5
}
